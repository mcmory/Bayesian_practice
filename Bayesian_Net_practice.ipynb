{
 "cells": [
  {
   "cell_type": "code",
   "execution_count": 1,
   "id": "58644fa7",
   "metadata": {},
   "outputs": [],
   "source": [
    "using Random\n"
   ]
  },
  {
   "cell_type": "code",
   "execution_count": null,
   "id": "a4e2353c",
   "metadata": {},
   "outputs": [],
   "source": []
  }
 ],
 "metadata": {
  "kernelspec": {
   "display_name": "Julia 1.6.2",
   "language": "julia",
   "name": "julia-1.6"
  },
  "language_info": {
   "file_extension": ".jl",
   "mimetype": "application/julia",
   "name": "julia",
   "version": "1.6.2"
  }
 },
 "nbformat": 4,
 "nbformat_minor": 5
}
